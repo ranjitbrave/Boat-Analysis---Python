{
 "cells": [
  {
   "cell_type": "markdown",
   "id": "ff912137",
   "metadata": {},
   "source": [
    "# Importing Libraries"
   ]
  },
  {
   "cell_type": "code",
   "execution_count": 1,
   "id": "e0350b1b",
   "metadata": {},
   "outputs": [],
   "source": [
    "import pandas as pd\n",
    "import numpy as np\n",
    "import os"
   ]
  },
  {
   "cell_type": "markdown",
   "id": "0956b152",
   "metadata": {},
   "source": [
    "# Creating easy link to file"
   ]
  },
  {
   "cell_type": "code",
   "execution_count": 2,
   "id": "416209d2",
   "metadata": {},
   "outputs": [],
   "source": [
    "path = r'C:\\Users\\ranji\\Boat Analysis'"
   ]
  },
  {
   "cell_type": "markdown",
   "id": "426f402e",
   "metadata": {},
   "source": [
    "# Importing file"
   ]
  },
  {
   "cell_type": "code",
   "execution_count": 3,
   "id": "dd7a6506",
   "metadata": {},
   "outputs": [],
   "source": [
    "df = pd.read_csv(os.path.join(path, 'Data', 'Original Data', 'Boats.csv'), index_col = False)"
   ]
  },
  {
   "cell_type": "code",
   "execution_count": 4,
   "id": "52f68f09",
   "metadata": {},
   "outputs": [
    {
     "data": {
      "text/plain": [
       "(9888, 15)"
      ]
     },
     "execution_count": 4,
     "metadata": {},
     "output_type": "execute_result"
    }
   ],
   "source": [
    "df.shape"
   ]
  },
  {
   "cell_type": "code",
   "execution_count": 5,
   "id": "b78c8c55",
   "metadata": {},
   "outputs": [
    {
     "data": {
      "text/plain": [
       "Boat Type                       object\n",
       "Manufacturer                    object\n",
       "Type                            object\n",
       "Year Built                       int64\n",
       "Price (EUR)                      int64\n",
       "Length                         float64\n",
       "Width                          float64\n",
       "Material                        object\n",
       "Number of views last 7 days      int64\n",
       "Location                        object\n",
       "Unnamed: 10                     object\n",
       "Unnamed: 11                     object\n",
       "Unnamed: 12                     object\n",
       "Unnamed: 13                     object\n",
       "Unnamed: 14                     object\n",
       "dtype: object"
      ]
     },
     "execution_count": 5,
     "metadata": {},
     "output_type": "execute_result"
    }
   ],
   "source": [
    "df.dtypes"
   ]
  },
  {
   "cell_type": "code",
   "execution_count": 6,
   "id": "555a5094",
   "metadata": {},
   "outputs": [],
   "source": [
    "# Deleting unnamed columns:\n",
    "del df['Unnamed: 10']\n",
    "del df['Unnamed: 11']\n",
    "del df['Unnamed: 12']\n",
    "del df['Unnamed: 13']\n",
    "del df['Unnamed: 14']"
   ]
  },
  {
   "cell_type": "code",
   "execution_count": 7,
   "id": "829b8652",
   "metadata": {},
   "outputs": [
    {
     "data": {
      "text/plain": [
       "Boat Type                         0\n",
       "Manufacturer                   1338\n",
       "Type                              6\n",
       "Year Built                        0\n",
       "Price (EUR)                       0\n",
       "Length                            9\n",
       "Width                            56\n",
       "Material                       1749\n",
       "Number of views last 7 days       0\n",
       "Location                         36\n",
       "dtype: int64"
      ]
     },
     "execution_count": 7,
     "metadata": {},
     "output_type": "execute_result"
    }
   ],
   "source": [
    "df.isnull().sum() "
   ]
  },
  {
   "cell_type": "code",
   "execution_count": 8,
   "id": "2657acbd",
   "metadata": {},
   "outputs": [],
   "source": [
    "df_clean = df.dropna(subset = ['Year Built','Length', 'Width', 'Location'])"
   ]
  },
  {
   "cell_type": "code",
   "execution_count": 9,
   "id": "ad8f33c4",
   "metadata": {},
   "outputs": [
    {
     "data": {
      "text/plain": [
       "(9796, 10)"
      ]
     },
     "execution_count": 9,
     "metadata": {},
     "output_type": "execute_result"
    }
   ],
   "source": [
    "df_clean.shape"
   ]
  },
  {
   "cell_type": "code",
   "execution_count": 10,
   "id": "5b7d2347",
   "metadata": {},
   "outputs": [
    {
     "data": {
      "text/html": [
       "<div>\n",
       "<style scoped>\n",
       "    .dataframe tbody tr th:only-of-type {\n",
       "        vertical-align: middle;\n",
       "    }\n",
       "\n",
       "    .dataframe tbody tr th {\n",
       "        vertical-align: top;\n",
       "    }\n",
       "\n",
       "    .dataframe thead th {\n",
       "        text-align: right;\n",
       "    }\n",
       "</style>\n",
       "<table border=\"1\" class=\"dataframe\">\n",
       "  <thead>\n",
       "    <tr style=\"text-align: right;\">\n",
       "      <th></th>\n",
       "      <th>Year Built</th>\n",
       "      <th>Price (EUR)</th>\n",
       "      <th>Length</th>\n",
       "      <th>Width</th>\n",
       "      <th>Number of views last 7 days</th>\n",
       "    </tr>\n",
       "  </thead>\n",
       "  <tbody>\n",
       "    <tr>\n",
       "      <th>count</th>\n",
       "      <td>9796.000000</td>\n",
       "      <td>9.796000e+03</td>\n",
       "      <td>9796.000000</td>\n",
       "      <td>9796.000000</td>\n",
       "      <td>9796.000000</td>\n",
       "    </tr>\n",
       "    <tr>\n",
       "      <th>mean</th>\n",
       "      <td>1892.353205</td>\n",
       "      <td>3.182380e+05</td>\n",
       "      <td>11.537515</td>\n",
       "      <td>3.513650</td>\n",
       "      <td>149.352082</td>\n",
       "    </tr>\n",
       "    <tr>\n",
       "      <th>std</th>\n",
       "      <td>461.835773</td>\n",
       "      <td>1.008421e+06</td>\n",
       "      <td>5.973664</td>\n",
       "      <td>1.214407</td>\n",
       "      <td>152.219432</td>\n",
       "    </tr>\n",
       "    <tr>\n",
       "      <th>min</th>\n",
       "      <td>0.000000</td>\n",
       "      <td>3.300000e+03</td>\n",
       "      <td>1.040000</td>\n",
       "      <td>0.010000</td>\n",
       "      <td>13.000000</td>\n",
       "    </tr>\n",
       "    <tr>\n",
       "      <th>25%</th>\n",
       "      <td>1996.000000</td>\n",
       "      <td>4.396850e+04</td>\n",
       "      <td>7.457500</td>\n",
       "      <td>2.540000</td>\n",
       "      <td>70.000000</td>\n",
       "    </tr>\n",
       "    <tr>\n",
       "      <th>50%</th>\n",
       "      <td>2007.000000</td>\n",
       "      <td>9.500000e+04</td>\n",
       "      <td>10.230000</td>\n",
       "      <td>3.320000</td>\n",
       "      <td>108.000000</td>\n",
       "    </tr>\n",
       "    <tr>\n",
       "      <th>75%</th>\n",
       "      <td>2017.000000</td>\n",
       "      <td>2.500000e+05</td>\n",
       "      <td>13.900000</td>\n",
       "      <td>4.250000</td>\n",
       "      <td>172.000000</td>\n",
       "    </tr>\n",
       "    <tr>\n",
       "      <th>max</th>\n",
       "      <td>2021.000000</td>\n",
       "      <td>3.100000e+07</td>\n",
       "      <td>100.000000</td>\n",
       "      <td>25.160000</td>\n",
       "      <td>3263.000000</td>\n",
       "    </tr>\n",
       "  </tbody>\n",
       "</table>\n",
       "</div>"
      ],
      "text/plain": [
       "        Year Built   Price (EUR)       Length        Width  \\\n",
       "count  9796.000000  9.796000e+03  9796.000000  9796.000000   \n",
       "mean   1892.353205  3.182380e+05    11.537515     3.513650   \n",
       "std     461.835773  1.008421e+06     5.973664     1.214407   \n",
       "min       0.000000  3.300000e+03     1.040000     0.010000   \n",
       "25%    1996.000000  4.396850e+04     7.457500     2.540000   \n",
       "50%    2007.000000  9.500000e+04    10.230000     3.320000   \n",
       "75%    2017.000000  2.500000e+05    13.900000     4.250000   \n",
       "max    2021.000000  3.100000e+07   100.000000    25.160000   \n",
       "\n",
       "       Number of views last 7 days  \n",
       "count                  9796.000000  \n",
       "mean                    149.352082  \n",
       "std                     152.219432  \n",
       "min                      13.000000  \n",
       "25%                      70.000000  \n",
       "50%                     108.000000  \n",
       "75%                     172.000000  \n",
       "max                    3263.000000  "
      ]
     },
     "execution_count": 10,
     "metadata": {},
     "output_type": "execute_result"
    }
   ],
   "source": [
    "df_clean.describe()"
   ]
  },
  {
   "cell_type": "code",
   "execution_count": 11,
   "id": "c002e51e",
   "metadata": {},
   "outputs": [],
   "source": [
    "# Deleting rows with Year Built = 0\n",
    "df_new = df_clean.drop(index = df_clean[df_clean['Year Built']==0].index)"
   ]
  },
  {
   "cell_type": "code",
   "execution_count": 12,
   "id": "3f92b02e",
   "metadata": {},
   "outputs": [
    {
     "data": {
      "text/html": [
       "<div>\n",
       "<style scoped>\n",
       "    .dataframe tbody tr th:only-of-type {\n",
       "        vertical-align: middle;\n",
       "    }\n",
       "\n",
       "    .dataframe tbody tr th {\n",
       "        vertical-align: top;\n",
       "    }\n",
       "\n",
       "    .dataframe thead th {\n",
       "        text-align: right;\n",
       "    }\n",
       "</style>\n",
       "<table border=\"1\" class=\"dataframe\">\n",
       "  <thead>\n",
       "    <tr style=\"text-align: right;\">\n",
       "      <th></th>\n",
       "      <th>Boat Type</th>\n",
       "      <th>Manufacturer</th>\n",
       "      <th>Type</th>\n",
       "      <th>Year Built</th>\n",
       "      <th>Price (EUR)</th>\n",
       "      <th>Length</th>\n",
       "      <th>Width</th>\n",
       "      <th>Material</th>\n",
       "      <th>Number of views last 7 days</th>\n",
       "      <th>Location</th>\n",
       "    </tr>\n",
       "  </thead>\n",
       "  <tbody>\n",
       "    <tr>\n",
       "      <th>0</th>\n",
       "      <td>Motor Yacht</td>\n",
       "      <td>Rigiflex power boats</td>\n",
       "      <td>new boat from stock</td>\n",
       "      <td>2017</td>\n",
       "      <td>3337</td>\n",
       "      <td>4.00</td>\n",
       "      <td>1.90</td>\n",
       "      <td>NaN</td>\n",
       "      <td>226</td>\n",
       "      <td>Switzerland</td>\n",
       "    </tr>\n",
       "    <tr>\n",
       "      <th>1</th>\n",
       "      <td>Center console boat</td>\n",
       "      <td>Terhi power boats</td>\n",
       "      <td>new boat from stock</td>\n",
       "      <td>2020</td>\n",
       "      <td>3490</td>\n",
       "      <td>4.00</td>\n",
       "      <td>1.50</td>\n",
       "      <td>Thermoplastic</td>\n",
       "      <td>75</td>\n",
       "      <td>Germany</td>\n",
       "    </tr>\n",
       "    <tr>\n",
       "      <th>3</th>\n",
       "      <td>Sport Boat</td>\n",
       "      <td>Pioner power boats</td>\n",
       "      <td>new boat from stock</td>\n",
       "      <td>2020</td>\n",
       "      <td>25900</td>\n",
       "      <td>3.00</td>\n",
       "      <td>1.00</td>\n",
       "      <td>NaN</td>\n",
       "      <td>64</td>\n",
       "      <td>Denmark</td>\n",
       "    </tr>\n",
       "    <tr>\n",
       "      <th>4</th>\n",
       "      <td>Fishing Boat</td>\n",
       "      <td>Linder power boats</td>\n",
       "      <td>new boat from stock</td>\n",
       "      <td>2019</td>\n",
       "      <td>3399</td>\n",
       "      <td>3.55</td>\n",
       "      <td>1.46</td>\n",
       "      <td>Aluminium</td>\n",
       "      <td>58</td>\n",
       "      <td>Germany</td>\n",
       "    </tr>\n",
       "    <tr>\n",
       "      <th>6</th>\n",
       "      <td>Catamaran</td>\n",
       "      <td>NaN</td>\n",
       "      <td>Used boat,Unleaded</td>\n",
       "      <td>1999</td>\n",
       "      <td>3600</td>\n",
       "      <td>6.20</td>\n",
       "      <td>2.38</td>\n",
       "      <td>Aluminium</td>\n",
       "      <td>474</td>\n",
       "      <td>Switzerland</td>\n",
       "    </tr>\n",
       "  </tbody>\n",
       "</table>\n",
       "</div>"
      ],
      "text/plain": [
       "             Boat Type          Manufacturer                 Type  Year Built  \\\n",
       "0          Motor Yacht  Rigiflex power boats  new boat from stock        2017   \n",
       "1  Center console boat     Terhi power boats  new boat from stock        2020   \n",
       "3           Sport Boat    Pioner power boats  new boat from stock        2020   \n",
       "4         Fishing Boat    Linder power boats  new boat from stock        2019   \n",
       "6            Catamaran                   NaN   Used boat,Unleaded        1999   \n",
       "\n",
       "   Price (EUR)  Length  Width       Material  Number of views last 7 days  \\\n",
       "0         3337    4.00   1.90            NaN                          226   \n",
       "1         3490    4.00   1.50  Thermoplastic                           75   \n",
       "3        25900    3.00   1.00            NaN                           64   \n",
       "4         3399    3.55   1.46      Aluminium                           58   \n",
       "6         3600    6.20   2.38      Aluminium                          474   \n",
       "\n",
       "      Location  \n",
       "0  Switzerland  \n",
       "1      Germany  \n",
       "3      Denmark  \n",
       "4      Germany  \n",
       "6  Switzerland  "
      ]
     },
     "execution_count": 12,
     "metadata": {},
     "output_type": "execute_result"
    }
   ],
   "source": [
    "df_new.head()"
   ]
  },
  {
   "cell_type": "code",
   "execution_count": 13,
   "id": "19ca020d",
   "metadata": {},
   "outputs": [
    {
     "data": {
      "text/plain": [
       "0"
      ]
     },
     "execution_count": 13,
     "metadata": {},
     "output_type": "execute_result"
    }
   ],
   "source": [
    "df_new.duplicated().sum()"
   ]
  },
  {
   "cell_type": "code",
   "execution_count": 15,
   "id": "0389bb4b",
   "metadata": {},
   "outputs": [],
   "source": [
    "df_new.to_csv(os.path.join(path, 'Data','Prepared Data', 'boats_clean.csv'))\n"
   ]
  },
  {
   "cell_type": "code",
   "execution_count": null,
   "id": "e705a67a",
   "metadata": {},
   "outputs": [],
   "source": []
  }
 ],
 "metadata": {
  "kernelspec": {
   "display_name": "Python 3 (ipykernel)",
   "language": "python",
   "name": "python3"
  },
  "language_info": {
   "codemirror_mode": {
    "name": "ipython",
    "version": 3
   },
   "file_extension": ".py",
   "mimetype": "text/x-python",
   "name": "python",
   "nbconvert_exporter": "python",
   "pygments_lexer": "ipython3",
   "version": "3.9.7"
  }
 },
 "nbformat": 4,
 "nbformat_minor": 5
}
